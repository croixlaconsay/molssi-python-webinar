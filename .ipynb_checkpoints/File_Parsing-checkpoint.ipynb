{
 "cells": [
  {
   "cell_type": "markdown",
   "metadata": {},
   "source": [
    "## File Parsing Lesson"
   ]
  },
  {
   "cell_type": "markdown",
   "metadata": {},
   "source": [
    "## Reading in the file"
   ]
  },
  {
   "cell_type": "code",
   "execution_count": 1,
   "metadata": {},
   "outputs": [
    {
     "name": "stdout",
     "output_type": "stream",
     "text": [
      " Volume in drive C is Windows\n",
      " Volume Serial Number is 86FC-03FA\n",
      "\n",
      " Directory of C:\\Users\\croix\\Desktop\\cms-workshop\\data\n",
      "\n",
      "04/03/2020  09:51 AM    <DIR>          .\n",
      "04/03/2020  09:51 AM    <DIR>          ..\n",
      "04/03/2020  09:51 AM    <DIR>          __MACOSX\n",
      "04/03/2020  09:51 AM    <DIR>          data\n",
      "               0 File(s)              0 bytes\n",
      "               4 Dir(s)  97,030,475,776 bytes free\n"
     ]
    }
   ],
   "source": [
    "ls data"
   ]
  },
  {
   "cell_type": "code",
   "execution_count": 3,
   "metadata": {},
   "outputs": [
    {
     "name": "stdout",
     "output_type": "stream",
     "text": [
      " Volume in drive C is Windows\n",
      " Volume Serial Number is 86FC-03FA\n",
      "\n",
      " Directory of C:\\Users\\croix\\Desktop\\cms-workshop\\data\n",
      "\n",
      "04/03/2020  11:22 AM    <DIR>          .\n",
      "04/03/2020  11:22 AM    <DIR>          ..\n",
      "04/03/2020  09:51 AM    <DIR>          __MACOSX\n",
      "04/03/2020  09:51 AM           212,934 03_Prod.mdout\n",
      "04/03/2020  09:51 AM               619 benzene.xyz\n",
      "04/03/2020  09:51 AM             2,471 buckminsterfullerene.xyz\n",
      "04/03/2020  11:22 AM    <DIR>          data\n",
      "04/03/2020  09:51 AM           355,359 distance_data_headers.csv\n",
      "04/03/2020  09:51 AM    <DIR>          outfiles\n",
      "04/03/2020  09:51 AM            61,568 sapt.out\n",
      "04/03/2020  09:51 AM               155 water.xyz\n",
      "               6 File(s)        633,106 bytes\n",
      "               5 Dir(s)  97,022,418,944 bytes free\n"
     ]
    }
   ],
   "source": [
    "ls data"
   ]
  },
  {
   "cell_type": "code",
   "execution_count": 4,
   "metadata": {},
   "outputs": [
    {
     "data": {
      "text/plain": [
       "'C:\\\\Users\\\\croix\\\\Desktop\\\\cms-workshop'"
      ]
     },
     "execution_count": 4,
     "metadata": {},
     "output_type": "execute_result"
    }
   ],
   "source": [
    "pwd"
   ]
  },
  {
   "cell_type": "code",
   "execution_count": 5,
   "metadata": {},
   "outputs": [],
   "source": [
    "import os"
   ]
  },
  {
   "cell_type": "code",
   "execution_count": 31,
   "metadata": {},
   "outputs": [
    {
     "name": "stdout",
     "output_type": "stream",
     "text": [
      "data\\outfiles\\ethanol.out\n"
     ]
    }
   ],
   "source": [
    "# os is a module. 'import os' gives you access of to os module\n",
    "ethanol_file = os.path.join('data','outfiles','ethanol.out') # single quotes for str\n",
    "print(ethanol_file)"
   ]
  },
  {
   "cell_type": "code",
   "execution_count": 32,
   "metadata": {},
   "outputs": [],
   "source": [
    "outfile = open(ethanol_file,'r') # 'r' is for reading\n",
    "data = outfile.readlines() # data will hold all of the information from the ethanol_file\n",
    "# readlines is a function that goes the file and saves every line as an element in a list\n",
    "outfile.close() # you opened a file. you must close it after using it.\n"
   ]
  },
  {
   "cell_type": "code",
   "execution_count": 33,
   "metadata": {},
   "outputs": [],
   "source": [
    "# Using code you already know, find out how many lines were in the file\n",
    "# Hint: think about how readlines() works!\n",
    "\n"
   ]
  },
  {
   "cell_type": "code",
   "execution_count": 34,
   "metadata": {},
   "outputs": [
    {
     "data": {
      "text/plain": [
       "'C:\\\\Users\\\\croix\\\\Desktop\\\\cms-workshop'"
      ]
     },
     "execution_count": 34,
     "metadata": {},
     "output_type": "execute_result"
    }
   ],
   "source": [
    "pwd"
   ]
  },
  {
   "cell_type": "code",
   "execution_count": 35,
   "metadata": {},
   "outputs": [
    {
     "name": "stdout",
     "output_type": "stream",
     "text": [
      " Volume in drive C is Windows\n",
      " Volume Serial Number is 86FC-03FA\n",
      "\n",
      " Directory of C:\\Users\\croix\\Desktop\\cms-workshop\n",
      "\n",
      "04/03/2020  11:44 AM    <DIR>          .\n",
      "04/03/2020  11:44 AM    <DIR>          ..\n",
      "04/03/2020  11:14 AM    <DIR>          .ipynb_checkpoints\n",
      "04/03/2020  11:44 AM    <DIR>          data\n",
      "04/03/2020  11:44 AM             6,341 File_Parsing.ipynb\n",
      "04/03/2020  11:11 AM             8,142 Introduction (MolSSI Webinar, Week 1).ipynb\n",
      "               2 File(s)         14,483 bytes\n",
      "               4 Dir(s)  96,991,444,992 bytes free\n"
     ]
    }
   ],
   "source": [
    "ls"
   ]
  },
  {
   "cell_type": "code",
   "execution_count": 36,
   "metadata": {},
   "outputs": [
    {
     "name": "stdout",
     "output_type": "stream",
     "text": [
      "270\n"
     ]
    }
   ],
   "source": [
    "number_lines = len(data)\n",
    "print(number_lines)"
   ]
  },
  {
   "cell_type": "code",
   "execution_count": 37,
   "metadata": {},
   "outputs": [
    {
     "name": "stdout",
     "output_type": "stream",
     "text": [
      "  @DF-RHF Final Energy:  -154.09130176573018\n",
      "\n"
     ]
    }
   ],
   "source": [
    "for line in data:\n",
    "    if 'Final Energy' in line:\n",
    "        energy_line = line\n",
    "        \n",
    "print(energy_line)"
   ]
  },
  {
   "cell_type": "code",
   "execution_count": 38,
   "metadata": {},
   "outputs": [
    {
     "name": "stdout",
     "output_type": "stream",
     "text": [
      "['@DF-RHF', 'Final', 'Energy:', '-154.09130176573018']\n"
     ]
    }
   ],
   "source": [
    "# what if we just want the number from the for loop? use 'split'\n",
    "words = energy_line.split()\n",
    "print(words)"
   ]
  },
  {
   "cell_type": "code",
   "execution_count": 42,
   "metadata": {},
   "outputs": [
    {
     "name": "stdout",
     "output_type": "stream",
     "text": [
      "my final energy from the file is: -154.09130176573018\n"
     ]
    }
   ],
   "source": [
    "energy = words[3]\n",
    "print('my final energy from the file is:', energy)"
   ]
  },
  {
   "cell_type": "code",
   "execution_count": 43,
   "metadata": {},
   "outputs": [
    {
     "data": {
      "text/plain": [
       "str"
      ]
     },
     "execution_count": 43,
     "metadata": {},
     "output_type": "execute_result"
    }
   ],
   "source": [
    "type(energy)"
   ]
  },
  {
   "cell_type": "code",
   "execution_count": 45,
   "metadata": {},
   "outputs": [],
   "source": [
    "# but we don't want it a string. How do we do that? change the energy to float.\n",
    "# str = float(str)\n",
    "\n",
    "energy = float(energy) \n",
    "# want to do it all in one stroke? Do 'casting'\n",
    "energy = float(words[3])"
   ]
  },
  {
   "cell_type": "code",
   "execution_count": 46,
   "metadata": {},
   "outputs": [
    {
     "data": {
      "text/plain": [
       "float"
      ]
     },
     "execution_count": 46,
     "metadata": {},
     "output_type": "execute_result"
    }
   ],
   "source": [
    "type(energy)"
   ]
  },
  {
   "cell_type": "code",
   "execution_count": 47,
   "metadata": {},
   "outputs": [],
   "source": [
    "# LOOK UP 'ENUMERATE LOOP' ONLINE"
   ]
  },
  {
   "cell_type": "markdown",
   "metadata": {},
   "source": [
    "## Multiple File Parsing"
   ]
  },
  {
   "cell_type": "code",
   "execution_count": null,
   "metadata": {},
   "outputs": [],
   "source": [
    "file_location"
   ]
  }
 ],
 "metadata": {
  "kernelspec": {
   "display_name": "Python 3",
   "language": "python",
   "name": "python3"
  },
  "language_info": {
   "codemirror_mode": {
    "name": "ipython",
    "version": 3
   },
   "file_extension": ".py",
   "mimetype": "text/x-python",
   "name": "python",
   "nbconvert_exporter": "python",
   "pygments_lexer": "ipython3",
   "version": "3.6.4"
  }
 },
 "nbformat": 4,
 "nbformat_minor": 2
}
