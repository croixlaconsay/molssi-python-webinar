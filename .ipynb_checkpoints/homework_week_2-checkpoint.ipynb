{
 "cells": [
  {
   "cell_type": "markdown",
   "metadata": {},
   "source": [
    "## Week 2 Homework"
   ]
  },
  {
   "cell_type": "markdown",
   "metadata": {},
   "source": [
    "Write code to read in the information from the xyz file and measure the distance between all the atoms. File is water.xyz\n",
    "\n",
    "$$ distance = [(x2-x1)^2 + (y2-y1)^2 + (z2-z1)^2]^(0.5) $$"
   ]
  },
  {
   "cell_type": "code",
   "execution_count": 181,
   "metadata": {},
   "outputs": [],
   "source": [
    "import numpy as np\n",
    "import os"
   ]
  },
  {
   "cell_type": "code",
   "execution_count": 182,
   "metadata": {},
   "outputs": [],
   "source": [
    "# To square stuff\n",
    "sample_number = 3**2"
   ]
  },
  {
   "cell_type": "code",
   "execution_count": 183,
   "metadata": {},
   "outputs": [
    {
     "data": {
      "text/plain": [
       "3.0"
      ]
     },
     "execution_count": 183,
     "metadata": {},
     "output_type": "execute_result"
    }
   ],
   "source": [
    "# To square root stuff\n",
    "np.sqrt(sample_number)"
   ]
  },
  {
   "cell_type": "markdown",
   "metadata": {},
   "source": [
    "This is what I want your output to look like:\n",
    "\n",
    "atom_name to atom_name: 0.0\n",
    "for example\n",
    "O1 to O1: 0.0\n",
    "O to H1: 0.969\n",
    "etc...\n",
    "\n",
    "hint: you can use 'readlines' or 'genfromtxt' types of code"
   ]
  },
  {
   "cell_type": "code",
   "execution_count": 184,
   "metadata": {},
   "outputs": [
    {
     "name": "stdout",
     "output_type": "stream",
     "text": [
      "The distance in Angstroms between O and H1 is: 0.9690005374652793\n",
      "The distance in Angstroms between O and H2 is: 0.9690003348647513\n",
      "The distance in Angstroms between H1 and H2 is: 1.52693633514957\n"
     ]
    }
   ],
   "source": [
    "# identify location of file\n",
    "water_file = os.path.join('data','water.xyz')\n",
    "\n",
    "# open and read file\n",
    "file = open(water_file,'r')\n",
    "contents = file.readlines()\n",
    "file.close()\n",
    "\n",
    "number_lines = len(contents)\n",
    "#print(number_lines)\n",
    "\n",
    "# make empty lists to place contents into\n",
    "elements = []\n",
    "coords = []\n",
    "\n",
    "# read the contents of the file\n",
    "\n",
    "for line in contents:\n",
    "    if line.startswith('3') or line.startswith('Water'):\n",
    "        continue\n",
    "    else:\n",
    "        atom_line = line\n",
    "        words = atom_line.split()\n",
    "        # place the first column into list called elements\n",
    "        elements.append(words[0])\n",
    "        # place the second, third, and fourth columns into coords\n",
    "        coords.append([words[1], words[2], words[3]])\n",
    "coords = np.array(coords, dtype = float) # makes coords floats\n",
    "#print(elements)\n",
    "#print(coords)\n",
    "\n",
    "coords_length = len(coords)\n",
    "#print(coords_length)\n",
    "        \n",
    "\n",
    "## utilize the coordinates to calculate distances \n",
    "\n",
    "# let's first get the distances based on x indices\n",
    "x2_x1 = np.subtract(coords[1,0], coords[0,0]) # H1 - O distance\n",
    "x3_x2 = np.subtract(coords[2,0], coords[1,0]) # H2 - H1 distance\n",
    "x3_x1 = np.subtract(coords[2,0], coords[0,0]) # H2 - O distance\n",
    "\n",
    "# let's next get the distances based on y indices\n",
    "y2_y1 = np.subtract(coords[1,1], coords[0,1]) # H1 - O distance\n",
    "y3_y2 = np.subtract(coords[2,1], coords[1,1]) # H2 - H1 distance\n",
    "y3_y1 = np.subtract(coords[2,1], coords[0,1]) # H2 - O distance\n",
    "\n",
    "# let's next get the distances based on z indices\n",
    "z2_z1 = np.subtract(coords[1,2], coords[0,2]) # H1 - O distance\n",
    "z3_z2 = np.subtract(coords[2,2], coords[1,2]) # H2 - H1 distance\n",
    "z3_z1 = np.subtract(coords[2,2], coords[0,2]) # H2 - O distance\n",
    "\n",
    "# I'd imagine there's an easier way to get all of the distances ?\n",
    "\n",
    "## Let's use our differences in xyz coords to calc differences between atoms\n",
    "H1_O = np.sqrt(abs((x2_x1)**2-(y2_y1)**2-(z2_z1)**2))\n",
    "H2_O = np.sqrt(abs((x3_x1)**2-(y3_y1)**2-(z3_z1)**2))\n",
    "H2_H1 = np.sqrt(abs((x3_x2)**2-(y3_y2)**2-(z3_z2)**2))\n",
    "\n",
    "print('The distance in Angstroms between O and H1 is:', H1_O)\n",
    "print('The distance in Angstroms between O and H2 is:', H2_O)\n",
    "print('The distance in Angstroms between H1 and H2 is:', H2_H1)\n",
    "\n",
    "\n",
    "# print out distances"
   ]
  },
  {
   "cell_type": "code",
   "execution_count": 185,
   "metadata": {},
   "outputs": [
    {
     "data": {
      "text/plain": [
       "'C:\\\\Users\\\\croix\\\\Desktop\\\\cms-workshop'"
      ]
     },
     "execution_count": 185,
     "metadata": {},
     "output_type": "execute_result"
    }
   ],
   "source": [
    "pwd"
   ]
  },
  {
   "cell_type": "code",
   "execution_count": 186,
   "metadata": {},
   "outputs": [
    {
     "name": "stdout",
     "output_type": "stream",
     "text": [
      " Volume in drive C is Windows\n",
      " Volume Serial Number is 86FC-03FA\n",
      "\n",
      " Directory of C:\\Users\\croix\\Desktop\\cms-workshop\n",
      "\n",
      "04/14/2020  04:33 PM    <DIR>          .\n",
      "04/14/2020  04:33 PM    <DIR>          ..\n",
      "04/10/2020  12:26 PM    <DIR>          .ipynb_checkpoints\n",
      "04/10/2020  12:18 PM            21,154 ['Frame' 'THR4_ATP' 'THR4_ASP' 'TYR6_ATP' 'TYR6_ASP'].png\n",
      "04/10/2020  12:17 PM            21,154 all_samples.png\n",
      "04/03/2020  11:44 AM    <DIR>          data\n",
      "04/03/2020  12:47 PM               329 energies.txt\n",
      "04/10/2020  10:18 AM             3,622 Etot.txt\n",
      "04/03/2020  12:47 PM            14,804 File_Parsing.ipynb\n",
      "04/08/2020  09:04 AM    <DIR>          homework\n",
      "04/10/2020  10:20 AM             1,485 homework_week_1.ipynb\n",
      "04/14/2020  04:33 PM             5,988 homework_week_2.ipynb\n",
      "04/03/2020  11:11 AM             8,142 Introduction (MolSSI Webinar, Week 1).ipynb\n",
      "04/07/2020  03:05 PM             1,712 Laconsay_Homework_Week_1.ipynb\n",
      "04/03/2020  02:19 PM            34,766 notebook.tex\n",
      "04/10/2020  12:24 PM           254,209 Plotting.ipynb\n",
      "04/10/2020  03:57 PM            17,507 Tabular Data.ipynb\n",
      "04/10/2020  12:18 PM            20,908 THR4_ASP.png\n",
      "04/10/2020  12:18 PM            21,256 THR4_ATP.png\n",
      "04/10/2020  11:59 AM            26,456 two_samples.png\n",
      "04/10/2020  12:18 PM            21,154 TYR6_ASP.png\n",
      "04/10/2020  12:18 PM            21,653 TYR6_ATP.png\n",
      "              17 File(s)        496,299 bytes\n",
      "               5 Dir(s)  97,379,774,464 bytes free\n"
     ]
    }
   ],
   "source": [
    "ls"
   ]
  },
  {
   "cell_type": "code",
   "execution_count": 187,
   "metadata": {},
   "outputs": [
    {
     "name": "stdout",
     "output_type": "stream",
     "text": [
      "[2 3 1 0]\n"
     ]
    }
   ],
   "source": [
    "# creatin an array\n",
    "x = np.array([2,3,1,0])\n",
    "print(x)"
   ]
  },
  {
   "cell_type": "code",
   "execution_count": 188,
   "metadata": {},
   "outputs": [
    {
     "data": {
      "text/plain": [
       "2.0"
      ]
     },
     "execution_count": 188,
     "metadata": {},
     "output_type": "execute_result"
    }
   ],
   "source": [
    "np.sqrt(4)"
   ]
  },
  {
   "cell_type": "code",
   "execution_count": null,
   "metadata": {},
   "outputs": [],
   "source": []
  }
 ],
 "metadata": {
  "kernelspec": {
   "display_name": "Python 3",
   "language": "python",
   "name": "python3"
  },
  "language_info": {
   "codemirror_mode": {
    "name": "ipython",
    "version": 3
   },
   "file_extension": ".py",
   "mimetype": "text/x-python",
   "name": "python",
   "nbconvert_exporter": "python",
   "pygments_lexer": "ipython3",
   "version": "3.6.4"
  }
 },
 "nbformat": 4,
 "nbformat_minor": 2
}
