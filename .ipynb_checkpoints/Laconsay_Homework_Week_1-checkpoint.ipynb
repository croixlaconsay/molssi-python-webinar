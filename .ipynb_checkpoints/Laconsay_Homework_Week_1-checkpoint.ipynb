{
 "cells": [
  {
   "cell_type": "markdown",
   "metadata": {},
   "source": [
    "## File Parsing Homework"
   ]
  },
  {
   "cell_type": "code",
   "execution_count": 55,
   "metadata": {},
   "outputs": [],
   "source": [
    "# Let's import os\n",
    "import os\n",
    "\n",
    "# Let's find the file we will read in\n",
    "file = os.path.join('data','03_Prod.mdout')\n",
    "\n",
    "# Let's first define a file that will end up holding the output of our script\n",
    "# opens a new file, called 'Etot.txt' and writes content from output of script\n",
    "datafile = open('Etot.txt','w+')\n",
    "\n",
    "# Let's first read in the file,'03_Prod.mdout'\n",
    "outfile = open(file, 'r') # reads in file\n",
    "data = outfile.readlines() # reads each line and writes a list for each line\n",
    "outfile.close()\n",
    "\n",
    "for line in data:\n",
    "    if 'Etot   =' in line:\n",
    "        energy_line = line\n",
    "        words = energy_line.split()\n",
    "        energy = float(words[2])\n",
    "        datafile.write(F'{energy} \\n') # F here makes it an F-string\n",
    "\n",
    "datafile.close()\n"
   ]
  },
  {
   "cell_type": "code",
   "execution_count": null,
   "metadata": {},
   "outputs": [],
   "source": [
    "\n"
   ]
  }
 ],
 "metadata": {
  "kernelspec": {
   "display_name": "Python 3",
   "language": "python",
   "name": "python3"
  },
  "language_info": {
   "codemirror_mode": {
    "name": "ipython",
    "version": 3
   },
   "file_extension": ".py",
   "mimetype": "text/x-python",
   "name": "python",
   "nbconvert_exporter": "python",
   "pygments_lexer": "ipython3",
   "version": "3.6.4"
  }
 },
 "nbformat": 4,
 "nbformat_minor": 2
}
