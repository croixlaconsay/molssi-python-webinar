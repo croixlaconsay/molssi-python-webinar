{
 "cells": [
  {
   "cell_type": "markdown",
   "metadata": {},
   "source": [
    "## File Parsing Lesson"
   ]
  },
  {
   "cell_type": "markdown",
   "metadata": {},
   "source": [
    "## Reading in the file"
   ]
  },
  {
   "cell_type": "code",
   "execution_count": 1,
   "metadata": {},
   "outputs": [
    {
     "name": "stdout",
     "output_type": "stream",
     "text": [
      " Volume in drive C is Windows\n",
      " Volume Serial Number is 86FC-03FA\n",
      "\n",
      " Directory of C:\\Users\\croix\\Desktop\\cms-workshop\\data\n",
      "\n",
      "04/03/2020  11:44 AM    <DIR>          .\n",
      "04/03/2020  11:44 AM    <DIR>          ..\n",
      "04/03/2020  11:34 AM    <DIR>          .ipynb_checkpoints\n",
      "04/03/2020  09:51 AM    <DIR>          __MACOSX\n",
      "04/03/2020  09:51 AM           212,934 03_Prod.mdout\n",
      "04/03/2020  09:51 AM               619 benzene.xyz\n",
      "04/03/2020  09:51 AM             2,471 buckminsterfullerene.xyz\n",
      "04/03/2020  11:22 AM    <DIR>          data\n",
      "04/03/2020  09:50 AM           241,959 data.zip\n",
      "04/03/2020  09:51 AM           355,359 distance_data_headers.csv\n",
      "04/03/2020  09:51 AM    <DIR>          outfiles\n",
      "04/03/2020  09:51 AM            61,568 sapt.out\n",
      "04/03/2020  09:51 AM               155 water.xyz\n",
      "               7 File(s)        875,065 bytes\n",
      "               6 Dir(s)  96,976,945,152 bytes free\n"
     ]
    }
   ],
   "source": [
    "ls data"
   ]
  },
  {
   "cell_type": "code",
   "execution_count": 2,
   "metadata": {},
   "outputs": [
    {
     "name": "stdout",
     "output_type": "stream",
     "text": [
      " Volume in drive C is Windows\n",
      " Volume Serial Number is 86FC-03FA\n",
      "\n",
      " Directory of C:\\Users\\croix\\Desktop\\cms-workshop\\data\n",
      "\n",
      "04/03/2020  11:44 AM    <DIR>          .\n",
      "04/03/2020  11:44 AM    <DIR>          ..\n",
      "04/03/2020  11:34 AM    <DIR>          .ipynb_checkpoints\n",
      "04/03/2020  09:51 AM    <DIR>          __MACOSX\n",
      "04/03/2020  09:51 AM           212,934 03_Prod.mdout\n",
      "04/03/2020  09:51 AM               619 benzene.xyz\n",
      "04/03/2020  09:51 AM             2,471 buckminsterfullerene.xyz\n",
      "04/03/2020  11:22 AM    <DIR>          data\n",
      "04/03/2020  09:50 AM           241,959 data.zip\n",
      "04/03/2020  09:51 AM           355,359 distance_data_headers.csv\n",
      "04/03/2020  09:51 AM    <DIR>          outfiles\n",
      "04/03/2020  09:51 AM            61,568 sapt.out\n",
      "04/03/2020  09:51 AM               155 water.xyz\n",
      "               7 File(s)        875,065 bytes\n",
      "               6 Dir(s)  96,976,945,152 bytes free\n"
     ]
    }
   ],
   "source": [
    "ls data"
   ]
  },
  {
   "cell_type": "code",
   "execution_count": 3,
   "metadata": {},
   "outputs": [
    {
     "data": {
      "text/plain": [
       "'C:\\\\Users\\\\croix\\\\Desktop\\\\cms-workshop'"
      ]
     },
     "execution_count": 3,
     "metadata": {},
     "output_type": "execute_result"
    }
   ],
   "source": [
    "pwd"
   ]
  },
  {
   "cell_type": "code",
   "execution_count": 4,
   "metadata": {},
   "outputs": [],
   "source": [
    "import os"
   ]
  },
  {
   "cell_type": "code",
   "execution_count": 5,
   "metadata": {},
   "outputs": [
    {
     "name": "stdout",
     "output_type": "stream",
     "text": [
      "data\\outfiles\\ethanol.out\n"
     ]
    }
   ],
   "source": [
    "# os is a module. 'import os' gives you access of to os module\n",
    "ethanol_file = os.path.join('data','outfiles','ethanol.out') # single quotes for str\n",
    "print(ethanol_file)"
   ]
  },
  {
   "cell_type": "code",
   "execution_count": 6,
   "metadata": {},
   "outputs": [],
   "source": [
    "outfile = open(ethanol_file,'r') # 'r' is for reading\n",
    "data = outfile.readlines() # data will hold all of the information from the ethanol_file\n",
    "# readlines is a function that goes the file and saves every line as an element in a list\n",
    "outfile.close() # you opened a file. you must close it after using it.\n"
   ]
  },
  {
   "cell_type": "code",
   "execution_count": 7,
   "metadata": {},
   "outputs": [],
   "source": [
    "# Using code you already know, find out how many lines were in the file\n",
    "# Hint: think about how readlines() works!\n",
    "\n"
   ]
  },
  {
   "cell_type": "code",
   "execution_count": 8,
   "metadata": {},
   "outputs": [
    {
     "data": {
      "text/plain": [
       "'C:\\\\Users\\\\croix\\\\Desktop\\\\cms-workshop'"
      ]
     },
     "execution_count": 8,
     "metadata": {},
     "output_type": "execute_result"
    }
   ],
   "source": [
    "pwd"
   ]
  },
  {
   "cell_type": "code",
   "execution_count": 9,
   "metadata": {},
   "outputs": [
    {
     "name": "stdout",
     "output_type": "stream",
     "text": [
      " Volume in drive C is Windows\n",
      " Volume Serial Number is 86FC-03FA\n",
      "\n",
      " Directory of C:\\Users\\croix\\Desktop\\cms-workshop\n",
      "\n",
      "04/03/2020  12:07 PM    <DIR>          .\n",
      "04/03/2020  12:07 PM    <DIR>          ..\n",
      "04/03/2020  11:14 AM    <DIR>          .ipynb_checkpoints\n",
      "04/03/2020  11:44 AM    <DIR>          data\n",
      "04/03/2020  12:07 PM             8,276 File_Parsing.ipynb\n",
      "04/03/2020  11:11 AM             8,142 Introduction (MolSSI Webinar, Week 1).ipynb\n",
      "               2 File(s)         16,418 bytes\n",
      "               4 Dir(s)  96,976,941,056 bytes free\n"
     ]
    }
   ],
   "source": [
    "ls"
   ]
  },
  {
   "cell_type": "code",
   "execution_count": 10,
   "metadata": {},
   "outputs": [
    {
     "name": "stdout",
     "output_type": "stream",
     "text": [
      "270\n"
     ]
    }
   ],
   "source": [
    "number_lines = len(data)\n",
    "print(number_lines)"
   ]
  },
  {
   "cell_type": "code",
   "execution_count": 11,
   "metadata": {},
   "outputs": [
    {
     "name": "stdout",
     "output_type": "stream",
     "text": [
      "  @DF-RHF Final Energy:  -154.09130176573018\n",
      "\n"
     ]
    }
   ],
   "source": [
    "for line in data:\n",
    "    if 'Final Energy' in line:\n",
    "        energy_line = line\n",
    "        \n",
    "print(energy_line)"
   ]
  },
  {
   "cell_type": "code",
   "execution_count": 12,
   "metadata": {},
   "outputs": [
    {
     "name": "stdout",
     "output_type": "stream",
     "text": [
      "['@DF-RHF', 'Final', 'Energy:', '-154.09130176573018']\n"
     ]
    }
   ],
   "source": [
    "# what if we just want the number from the for loop? use 'split'\n",
    "words = energy_line.split()\n",
    "print(words)"
   ]
  },
  {
   "cell_type": "code",
   "execution_count": 13,
   "metadata": {},
   "outputs": [
    {
     "name": "stdout",
     "output_type": "stream",
     "text": [
      "my final energy from the file is: -154.09130176573018\n"
     ]
    }
   ],
   "source": [
    "energy = words[3]\n",
    "print('my final energy from the file is:', energy)"
   ]
  },
  {
   "cell_type": "code",
   "execution_count": 14,
   "metadata": {},
   "outputs": [
    {
     "data": {
      "text/plain": [
       "str"
      ]
     },
     "execution_count": 14,
     "metadata": {},
     "output_type": "execute_result"
    }
   ],
   "source": [
    "type(energy)"
   ]
  },
  {
   "cell_type": "code",
   "execution_count": 15,
   "metadata": {},
   "outputs": [],
   "source": [
    "# but we don't want it a string. How do we do that? change the energy to float.\n",
    "# str = float(str)\n",
    "\n",
    "energy = float(energy) \n",
    "# want to do it all in one stroke? Do 'casting'\n",
    "energy = float(words[3])"
   ]
  },
  {
   "cell_type": "code",
   "execution_count": 16,
   "metadata": {},
   "outputs": [
    {
     "data": {
      "text/plain": [
       "float"
      ]
     },
     "execution_count": 16,
     "metadata": {},
     "output_type": "execute_result"
    }
   ],
   "source": [
    "type(energy)"
   ]
  },
  {
   "cell_type": "code",
   "execution_count": 17,
   "metadata": {},
   "outputs": [],
   "source": [
    "# LOOK UP 'ENUMERATE LOOP' ONLINE"
   ]
  },
  {
   "cell_type": "markdown",
   "metadata": {},
   "source": [
    "## Multiple File Parsing"
   ]
  },
  {
   "cell_type": "code",
   "execution_count": 19,
   "metadata": {},
   "outputs": [
    {
     "name": "stdout",
     "output_type": "stream",
     "text": [
      "data\\outfiles\\*.out\n"
     ]
    }
   ],
   "source": [
    "file_location = os.path.join('data','outfiles','*.out')\n",
    "print(file_location)"
   ]
  },
  {
   "cell_type": "code",
   "execution_count": 20,
   "metadata": {},
   "outputs": [],
   "source": [
    "import glob # look up 'glob' module online \n",
    "# glob.glob means go into the library 'glob' and use function 'glob'"
   ]
  },
  {
   "cell_type": "code",
   "execution_count": 27,
   "metadata": {},
   "outputs": [
    {
     "name": "stdout",
     "output_type": "stream",
     "text": [
      "['data\\\\outfiles\\\\butanol.out', 'data\\\\outfiles\\\\decanol.out', 'data\\\\outfiles\\\\ethanol.out', 'data\\\\outfiles\\\\heptanol.out', 'data\\\\outfiles\\\\hexanol.out', 'data\\\\outfiles\\\\methanol.out', 'data\\\\outfiles\\\\nonanol.out', 'data\\\\outfiles\\\\octanol.out', 'data\\\\outfiles\\\\pentanol.out', 'data\\\\outfiles\\\\propanol.out']\n"
     ]
    }
   ],
   "source": [
    "filenames = glob.glob(file_location)\n",
    "print(filenames)"
   ]
  },
  {
   "cell_type": "code",
   "execution_count": 28,
   "metadata": {},
   "outputs": [
    {
     "name": "stdout",
     "output_type": "stream",
     "text": [
      "-232.1655798347283\n",
      "-466.3836241400086\n",
      "-154.09130176573018\n",
      "-349.27397687072676\n",
      "-310.2385332251633\n",
      "-115.04800861868374\n",
      "-427.3465180082815\n",
      "-388.3110864554743\n",
      "-271.20138119895074\n",
      "-193.12836249728798\n"
     ]
    }
   ],
   "source": [
    "# this calls for a 'nested' for loop\n",
    "\n",
    "for file in filenames:\n",
    "    outfile = open(file,'r')\n",
    "    data = outfile.readlines()\n",
    "    outfile.close()\n",
    "    for line in data:\n",
    "        if 'Final Energy' in line:\n",
    "            energy_line = line\n",
    "            words = energy_line.split()\n",
    "            energy = float(words[3])\n",
    "            print(energy)"
   ]
  },
  {
   "cell_type": "code",
   "execution_count": 30,
   "metadata": {},
   "outputs": [
    {
     "name": "stdout",
     "output_type": "stream",
     "text": [
      "data\\outfiles\\butanol.out\n"
     ]
    }
   ],
   "source": [
    "first_file = filenames[0]\n",
    "print(first_file)"
   ]
  },
  {
   "cell_type": "code",
   "execution_count": 31,
   "metadata": {},
   "outputs": [
    {
     "name": "stdout",
     "output_type": "stream",
     "text": [
      "butanol.out\n"
     ]
    }
   ],
   "source": [
    "file_name = os.path.basename(first_file)\n",
    "print(file_name)"
   ]
  },
  {
   "cell_type": "code",
   "execution_count": 36,
   "metadata": {},
   "outputs": [
    {
     "name": "stdout",
     "output_type": "stream",
     "text": [
      "butanol\n"
     ]
    }
   ],
   "source": [
    "just_file_name = file_name.split('.')\n",
    "molecule_name = just_file_name[0]\n",
    "print(molecule_name)"
   ]
  },
  {
   "cell_type": "code",
   "execution_count": 39,
   "metadata": {},
   "outputs": [
    {
     "name": "stdout",
     "output_type": "stream",
     "text": [
      "butanol -232.1655798347283\n",
      "decanol -466.3836241400086\n",
      "ethanol -154.09130176573018\n",
      "heptanol -349.27397687072676\n",
      "hexanol -310.2385332251633\n",
      "methanol -115.04800861868374\n",
      "nonanol -427.3465180082815\n",
      "octanol -388.3110864554743\n",
      "pentanol -271.20138119895074\n",
      "propanol -193.12836249728798\n"
     ]
    }
   ],
   "source": [
    "# now that we know how to extract the file name, we will now edit out nest for loop\n",
    "\n",
    "for file in filenames:\n",
    "    \n",
    "    # Get molecule name\n",
    "    file_name = os.path.basename(file) \n",
    "    just_file_name = file_name.split('.')\n",
    "    molecule_name = just_file_name[0]\n",
    "    \n",
    "    # Reads data\n",
    "    outfile = open(file,'r')\n",
    "    data = outfile.readlines()\n",
    "    outfile.close()\n",
    "    \n",
    "    #Looks through the file\n",
    "    for line in data:\n",
    "        if 'Final Energy' in line:\n",
    "            energy_line = line\n",
    "            words = energy_line.split()\n",
    "            energy = float(words[3])\n",
    "            print(molecule_name, energy)\n",
    "   "
   ]
  },
  {
   "cell_type": "markdown",
   "metadata": {},
   "source": [
    "## Writing Code to a separate File"
   ]
  },
  {
   "cell_type": "code",
   "execution_count": 42,
   "metadata": {},
   "outputs": [],
   "source": [
    "# let's write the output into an external file\n",
    "# Here's how to do it\n",
    "# This opens the file for writing\n",
    "datafile = open('energies.txt', 'w+')\n",
    "\n",
    "for file in filenames:\n",
    "    \n",
    "    # Get molecule name\n",
    "    file_name = os.path.basename(file) \n",
    "    just_file_name = file_name.split('.')\n",
    "    molecule_name = just_file_name[0]\n",
    "    \n",
    "    # Reads data\n",
    "    outfile = open(file,'r')\n",
    "    data = outfile.readlines()\n",
    "    outfile.close()\n",
    "    \n",
    "    #Looks through the file\n",
    "    for line in data:\n",
    "        if 'Final Energy' in line:\n",
    "            energy_line = line\n",
    "            words = energy_line.split()\n",
    "            energy = float(words[3])\n",
    "            datafile.write(F' {molecule_name} \\t {energy} \\n') # datafile.write only prints strings\n",
    "\n",
    "            # we fix it by writing \"F'{variable1} {variable2}'\"\n",
    "            # \\t 'tabs' each line and '\\n makes a new line\n",
    "datafile.close()"
   ]
  },
  {
   "cell_type": "code",
   "execution_count": null,
   "metadata": {},
   "outputs": [],
   "source": []
  }
 ],
 "metadata": {
  "kernelspec": {
   "display_name": "Python 3",
   "language": "python",
   "name": "python3"
  },
  "language_info": {
   "codemirror_mode": {
    "name": "ipython",
    "version": 3
   },
   "file_extension": ".py",
   "mimetype": "text/x-python",
   "name": "python",
   "nbconvert_exporter": "python",
   "pygments_lexer": "ipython3",
   "version": "3.6.4"
  }
 },
 "nbformat": 4,
 "nbformat_minor": 2
}
