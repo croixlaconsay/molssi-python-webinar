{
 "cells": [
  {
   "cell_type": "code",
   "execution_count": 1,
   "metadata": {},
   "outputs": [],
   "source": [
    "import os\n",
    "import argparse\n",
    "\n",
    "\n",
    "if __name__ == \"__main__\":\n",
    "    \n",
    "    # Use argparse to get file name\n",
    "    parser = argparse.ArgumentParser(\"This script parses amber mdout files to extract the total energy.\")\n",
    "    praser.add_argument(\"filepath\", help=\"The filepath to the file to be analyzed.\")\n",
    "    \n",
    "    args = parser.parse_args()\n",
    "    \n",
    "    # Open the file for reading\n",
    "\n",
    "    filename = args.filepath\n",
    "\n",
    "    f = open(filename, 'r')\n",
    "    fname = os.path.basename(filename).split('.')[0]\n",
    "\n",
    "    # Read the data\n",
    "    data = f.readlines()\n",
    "\n",
    "    # Close the file\n",
    "\n",
    "    f.close()\n",
    "\n",
    "\n",
    "    f_write = open(F'{fname}_Etot.txt', 'w+')\n",
    "\n",
    "    # Loop through lines in the file\n",
    "    values = []\n",
    "    for line in data:\n",
    "        # Get information from the lines\n",
    "        split_line = line.split()\n",
    "\n",
    "        if 'Etot' in line:\n",
    "            #print(split_line[2])\n",
    "            #f_write.write(f'{split_line[2]}\\n')\n",
    "            values.append(split_line[2])\n",
    "    values = values[:-2]\n",
    "    \n",
    "    for value in values:\n",
    "        f_write.write(F'{value\\n}')\n",
    "\n",
    "    f_write.close() "
   ]
  },
  {
   "cell_type": "code",
   "execution_count": null,
   "metadata": {},
   "outputs": [],
   "source": []
  }
 ],
 "metadata": {
  "kernelspec": {
   "display_name": "Python 3",
   "language": "python",
   "name": "python3"
  },
  "language_info": {
   "codemirror_mode": {
    "name": "ipython",
    "version": 3
   },
   "file_extension": ".py",
   "mimetype": "text/x-python",
   "name": "python",
   "nbconvert_exporter": "python",
   "pygments_lexer": "ipython3",
   "version": "3.6.4"
  }
 },
 "nbformat": 4,
 "nbformat_minor": 2
}
